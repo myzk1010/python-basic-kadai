{
  "nbformat": 4,
  "nbformat_minor": 0,
  "metadata": {
    "colab": {
      "provenance": []
    },
    "kernelspec": {
      "name": "python3",
      "display_name": "Python 3"
    },
    "language_info": {
      "name": "python"
    }
  },
  "cells": [
    {
      "cell_type": "code",
      "source": [
        "名前(name)と年齢(age)の属性を持つHumanクラスを作成してください。\n",
        "\n",
        "Humanクラスには、以下の条件で標準出力(print)するcheck_adultメソッドを追加してください。\n",
        "\n",
        "ageが20以上の場合に大人であること\n",
        "そうでない場合に大人でないこと\n",
        "Humanクラスのインスタンスを複数生成してリストに追加し、リストの要素数分だけcheck_adultメソッドを呼び出してください。"
      ],
      "metadata": {
        "id": "8_f_tpFTK1Eb"
      },
      "execution_count": null,
      "outputs": []
    },
    {
      "cell_type": "code",
      "execution_count": 12,
      "metadata": {
        "colab": {
          "base_uri": "https://localhost:8080/"
        },
        "id": "ZLqM_79lBYTQ",
        "outputId": "1765a337-fca9-4ec9-ff5b-09ed12363b0f"
      },
      "outputs": [
        {
          "output_type": "stream",
          "name": "stdout",
          "text": [
            "そこのおっさん は成人\n",
            "あっちのおっさん は成人\n",
            "ここのおっさん は成人\n",
            "こっちのおっさん は未成年\n",
            "そっちのおっさん は成人\n"
          ]
        }
      ],
      "source": [
        "class Human:\n",
        "  def __init__(self, name, age):\n",
        "    self.name = name\n",
        "    self.age = age\n",
        "\n",
        "  def check_adult(self):\n",
        "    if self.age >= 20:\n",
        "      print(self.name, \"は成人\")\n",
        "    else:\n",
        "      print(self.name, \"は未成年\")\n",
        "\n",
        "man1 = Human(\"そこのおっさん\", 22)\n",
        "man2 = Human(\"あっちのおっさん\", 26)\n",
        "man3 = Human(\"ここのおっさん\", 43)\n",
        "man4 = Human(\"こっちのおっさん\", 17)\n",
        "man5 = Human(\"そっちのおっさん\", 34)\n",
        "\n",
        "om_list = [man1, man2, man3, man4, man5]\n",
        "\n",
        "for i in om_list:\n",
        "  i.check_adult()\n"
      ]
    },
    {
      "cell_type": "code",
      "source": [],
      "metadata": {
        "id": "X4P6j80vO8uY"
      },
      "execution_count": null,
      "outputs": []
    }
  ]
}