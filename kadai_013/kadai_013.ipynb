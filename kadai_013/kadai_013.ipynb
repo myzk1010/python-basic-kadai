{
  "nbformat": 4,
  "nbformat_minor": 0,
  "metadata": {
    "colab": {
      "provenance": []
    },
    "kernelspec": {
      "name": "python3",
      "display_name": "Python 3"
    },
    "language_info": {
      "name": "python"
    }
  },
  "cells": [
    {
      "cell_type": "code",
      "execution_count": 1,
      "metadata": {
        "colab": {
          "base_uri": "https://localhost:8080/"
        },
        "id": "XKJonPNc_rm2",
        "outputId": "6da6591d-1b46-4122-8f35-121505d80009"
      },
      "outputs": [
        {
          "output_type": "stream",
          "name": "stdout",
          "text": [
            "121.0\n"
          ]
        }
      ],
      "source": [
        "def add_tax(price:int, tax:int):\n",
        "  return price*(tax+100)/100\n",
        "\n",
        "print(add_tax(110,10))"
      ]
    },
    {
      "cell_type": "code",
      "source": [],
      "metadata": {
        "id": "9JvS6PfZA1ul"
      },
      "execution_count": null,
      "outputs": []
    }
  ]
}